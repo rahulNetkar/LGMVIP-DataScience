{
 "cells": [
  {
   "cell_type": "markdown",
   "id": "6c082300",
   "metadata": {},
   "source": [
    "## LGMVIP Feb 2022\n",
    "## Shrushti Bhise\n",
    "### Task 2:  Stock Market Prediction And Forecasting Using Stacked LSTM\n",
    "#### Dataset: https://raw.githubusercontent.com/mwitiderrick/stockprice/master/NSE-TATAGLOBAL.csv"
   ]
  },
  {
   "cell_type": "markdown",
   "id": "b90b9b8e",
   "metadata": {},
   "source": [
    " ### Importing libraries"
   ]
  },
  {
   "cell_type": "code",
   "execution_count": 2,
   "id": "9a8b7b8d",
   "metadata": {},
   "outputs": [],
   "source": [
    "import pandas as pd\n",
    "import numpy as np\n",
    "import math\n",
    "import matplotlib.pyplot as plt\n",
    "from sklearn.preprocessing import MinMaxScaler\n",
    "from sklearn.metrics import mean_squared_error\n",
    "import tensorflow as tf\n",
    "from tensorflow.python.keras.models import Sequential\n",
    "from tensorflow.python.keras.layers import Dense\n",
    "from tensorflow.python.keras.layers import LSTM\n",
    "%matplotlib inline"
   ]
  },
  {
   "cell_type": "code",
   "execution_count": 4,
   "id": "ecc23da5",
   "metadata": {},
   "outputs": [],
   "source": [
    "df = pd.read_csv('stocks.csv')"
   ]
  },
  {
   "cell_type": "code",
   "execution_count": 5,
   "id": "f439c05c",
   "metadata": {},
   "outputs": [
    {
     "data": {
      "text/html": [
       "<div>\n",
       "<style scoped>\n",
       "    .dataframe tbody tr th:only-of-type {\n",
       "        vertical-align: middle;\n",
       "    }\n",
       "\n",
       "    .dataframe tbody tr th {\n",
       "        vertical-align: top;\n",
       "    }\n",
       "\n",
       "    .dataframe thead th {\n",
       "        text-align: right;\n",
       "    }\n",
       "</style>\n",
       "<table border=\"1\" class=\"dataframe\">\n",
       "  <thead>\n",
       "    <tr style=\"text-align: right;\">\n",
       "      <th></th>\n",
       "      <th>Date</th>\n",
       "      <th>Open</th>\n",
       "      <th>High</th>\n",
       "      <th>Low</th>\n",
       "      <th>Last</th>\n",
       "      <th>Close</th>\n",
       "      <th>Total Trade Quantity</th>\n",
       "      <th>Turnover (Lacs)</th>\n",
       "    </tr>\n",
       "  </thead>\n",
       "  <tbody>\n",
       "    <tr>\n",
       "      <th>0</th>\n",
       "      <td>2018-09-28</td>\n",
       "      <td>234.05</td>\n",
       "      <td>235.95</td>\n",
       "      <td>230.20</td>\n",
       "      <td>233.50</td>\n",
       "      <td>233.75</td>\n",
       "      <td>3069914</td>\n",
       "      <td>7162.35</td>\n",
       "    </tr>\n",
       "    <tr>\n",
       "      <th>1</th>\n",
       "      <td>2018-09-27</td>\n",
       "      <td>234.55</td>\n",
       "      <td>236.80</td>\n",
       "      <td>231.10</td>\n",
       "      <td>233.80</td>\n",
       "      <td>233.25</td>\n",
       "      <td>5082859</td>\n",
       "      <td>11859.95</td>\n",
       "    </tr>\n",
       "    <tr>\n",
       "      <th>2</th>\n",
       "      <td>2018-09-26</td>\n",
       "      <td>240.00</td>\n",
       "      <td>240.00</td>\n",
       "      <td>232.50</td>\n",
       "      <td>235.00</td>\n",
       "      <td>234.25</td>\n",
       "      <td>2240909</td>\n",
       "      <td>5248.60</td>\n",
       "    </tr>\n",
       "    <tr>\n",
       "      <th>3</th>\n",
       "      <td>2018-09-25</td>\n",
       "      <td>233.30</td>\n",
       "      <td>236.75</td>\n",
       "      <td>232.00</td>\n",
       "      <td>236.25</td>\n",
       "      <td>236.10</td>\n",
       "      <td>2349368</td>\n",
       "      <td>5503.90</td>\n",
       "    </tr>\n",
       "    <tr>\n",
       "      <th>4</th>\n",
       "      <td>2018-09-24</td>\n",
       "      <td>233.55</td>\n",
       "      <td>239.20</td>\n",
       "      <td>230.75</td>\n",
       "      <td>234.00</td>\n",
       "      <td>233.30</td>\n",
       "      <td>3423509</td>\n",
       "      <td>7999.55</td>\n",
       "    </tr>\n",
       "  </tbody>\n",
       "</table>\n",
       "</div>"
      ],
      "text/plain": [
       "         Date    Open    High     Low    Last   Close  Total Trade Quantity  \\\n",
       "0  2018-09-28  234.05  235.95  230.20  233.50  233.75               3069914   \n",
       "1  2018-09-27  234.55  236.80  231.10  233.80  233.25               5082859   \n",
       "2  2018-09-26  240.00  240.00  232.50  235.00  234.25               2240909   \n",
       "3  2018-09-25  233.30  236.75  232.00  236.25  236.10               2349368   \n",
       "4  2018-09-24  233.55  239.20  230.75  234.00  233.30               3423509   \n",
       "\n",
       "   Turnover (Lacs)  \n",
       "0          7162.35  \n",
       "1         11859.95  \n",
       "2          5248.60  \n",
       "3          5503.90  \n",
       "4          7999.55  "
      ]
     },
     "execution_count": 5,
     "metadata": {},
     "output_type": "execute_result"
    }
   ],
   "source": [
    "df.head()"
   ]
  },
  {
   "cell_type": "code",
   "execution_count": 6,
   "id": "0bdd1415",
   "metadata": {},
   "outputs": [
    {
     "data": {
      "text/html": [
       "<div>\n",
       "<style scoped>\n",
       "    .dataframe tbody tr th:only-of-type {\n",
       "        vertical-align: middle;\n",
       "    }\n",
       "\n",
       "    .dataframe tbody tr th {\n",
       "        vertical-align: top;\n",
       "    }\n",
       "\n",
       "    .dataframe thead th {\n",
       "        text-align: right;\n",
       "    }\n",
       "</style>\n",
       "<table border=\"1\" class=\"dataframe\">\n",
       "  <thead>\n",
       "    <tr style=\"text-align: right;\">\n",
       "      <th></th>\n",
       "      <th>Date</th>\n",
       "      <th>Open</th>\n",
       "      <th>High</th>\n",
       "      <th>Low</th>\n",
       "      <th>Last</th>\n",
       "      <th>Close</th>\n",
       "      <th>Total Trade Quantity</th>\n",
       "      <th>Turnover (Lacs)</th>\n",
       "    </tr>\n",
       "  </thead>\n",
       "  <tbody>\n",
       "    <tr>\n",
       "      <th>2030</th>\n",
       "      <td>2010-07-27</td>\n",
       "      <td>117.6</td>\n",
       "      <td>119.50</td>\n",
       "      <td>112.00</td>\n",
       "      <td>118.80</td>\n",
       "      <td>118.65</td>\n",
       "      <td>586100</td>\n",
       "      <td>694.98</td>\n",
       "    </tr>\n",
       "    <tr>\n",
       "      <th>2031</th>\n",
       "      <td>2010-07-26</td>\n",
       "      <td>120.1</td>\n",
       "      <td>121.00</td>\n",
       "      <td>117.10</td>\n",
       "      <td>117.10</td>\n",
       "      <td>117.60</td>\n",
       "      <td>658440</td>\n",
       "      <td>780.01</td>\n",
       "    </tr>\n",
       "    <tr>\n",
       "      <th>2032</th>\n",
       "      <td>2010-07-23</td>\n",
       "      <td>121.8</td>\n",
       "      <td>121.95</td>\n",
       "      <td>120.25</td>\n",
       "      <td>120.35</td>\n",
       "      <td>120.65</td>\n",
       "      <td>281312</td>\n",
       "      <td>340.31</td>\n",
       "    </tr>\n",
       "    <tr>\n",
       "      <th>2033</th>\n",
       "      <td>2010-07-22</td>\n",
       "      <td>120.3</td>\n",
       "      <td>122.00</td>\n",
       "      <td>120.25</td>\n",
       "      <td>120.75</td>\n",
       "      <td>120.90</td>\n",
       "      <td>293312</td>\n",
       "      <td>355.17</td>\n",
       "    </tr>\n",
       "    <tr>\n",
       "      <th>2034</th>\n",
       "      <td>2010-07-21</td>\n",
       "      <td>122.1</td>\n",
       "      <td>123.00</td>\n",
       "      <td>121.05</td>\n",
       "      <td>121.10</td>\n",
       "      <td>121.55</td>\n",
       "      <td>658666</td>\n",
       "      <td>803.56</td>\n",
       "    </tr>\n",
       "  </tbody>\n",
       "</table>\n",
       "</div>"
      ],
      "text/plain": [
       "            Date   Open    High     Low    Last   Close  Total Trade Quantity  \\\n",
       "2030  2010-07-27  117.6  119.50  112.00  118.80  118.65                586100   \n",
       "2031  2010-07-26  120.1  121.00  117.10  117.10  117.60                658440   \n",
       "2032  2010-07-23  121.8  121.95  120.25  120.35  120.65                281312   \n",
       "2033  2010-07-22  120.3  122.00  120.25  120.75  120.90                293312   \n",
       "2034  2010-07-21  122.1  123.00  121.05  121.10  121.55                658666   \n",
       "\n",
       "      Turnover (Lacs)  \n",
       "2030           694.98  \n",
       "2031           780.01  \n",
       "2032           340.31  \n",
       "2033           355.17  \n",
       "2034           803.56  "
      ]
     },
     "execution_count": 6,
     "metadata": {},
     "output_type": "execute_result"
    }
   ],
   "source": [
    "df.tail()"
   ]
  },
  {
   "cell_type": "markdown",
   "id": "ff88c967",
   "metadata": {},
   "source": [
    "#### I'll be using only 'Close' column for prediction and forcasting"
   ]
  },
  {
   "cell_type": "code",
   "execution_count": 7,
   "id": "ac8abe6f",
   "metadata": {},
   "outputs": [],
   "source": [
    "df1 = df.reset_index()['Close']"
   ]
  },
  {
   "cell_type": "code",
   "execution_count": 8,
   "id": "9c2a2a4c",
   "metadata": {},
   "outputs": [
    {
     "data": {
      "text/plain": [
       "0       233.75\n",
       "1       233.25\n",
       "2       234.25\n",
       "3       236.10\n",
       "4       233.30\n",
       "         ...  \n",
       "2030    118.65\n",
       "2031    117.60\n",
       "2032    120.65\n",
       "2033    120.90\n",
       "2034    121.55\n",
       "Name: Close, Length: 2035, dtype: float64"
      ]
     },
     "execution_count": 8,
     "metadata": {},
     "output_type": "execute_result"
    }
   ],
   "source": [
    "df1"
   ]
  },
  {
   "cell_type": "markdown",
   "id": "8f223c9b",
   "metadata": {},
   "source": [
    " - ### Plotting the graph "
   ]
  },
  {
   "cell_type": "code",
   "execution_count": 9,
   "id": "2a6adfc3",
   "metadata": {},
   "outputs": [
    {
     "data": {
      "text/plain": [
       "[<matplotlib.lines.Line2D at 0x190882ea940>]"
      ]
     },
     "execution_count": 9,
     "metadata": {},
     "output_type": "execute_result"
    },
    {
     "data": {
      "image/png": "[encoded data removed]",
      "text/plain": [
       "<Figure size 432x288 with 1 Axes>"
      ]
     },
     "metadata": {
      "needs_background": "light"
     },
     "output_type": "display_data"
    }
   ],
   "source": [
    "plt.plot(df1)"
   ]
  },
  {
   "cell_type": "markdown",
   "id": "365c65f7",
   "metadata": {},
   "source": [
    " - ### Scaling data"
   ]
  },
  {
   "cell_type": "code",
   "execution_count": 10,
   "id": "40c7261e",
   "metadata": {},
   "outputs": [
    {
     "data": {
      "text/plain": [
       "0       233.75\n",
       "1       233.25\n",
       "2       234.25\n",
       "3       236.10\n",
       "4       233.30\n",
       "         ...  \n",
       "2030    118.65\n",
       "2031    117.60\n",
       "2032    120.65\n",
       "2033    120.90\n",
       "2034    121.55\n",
       "Name: Close, Length: 2035, dtype: float64"
      ]
     },
     "execution_count": 10,
     "metadata": {},
     "output_type": "execute_result"
    }
   ],
   "source": [
    "df1"
   ]
  },
  {
   "cell_type": "code",
   "execution_count": 11,
   "id": "7a3a9938",
   "metadata": {},
   "outputs": [],
   "source": [
    "scaler=MinMaxScaler(feature_range=(0,1))\n",
    "df1=scaler.fit_transform(np.array(df1).reshape(-1,1))"
   ]
  },
  {
   "cell_type": "code",
   "execution_count": 12,
   "id": "26caa07e",
   "metadata": {},
   "outputs": [
    {
     "name": "stdout",
     "output_type": "stream",
     "text": [
      "[[0.62418301]\n",
      " [0.62214052]\n",
      " [0.62622549]\n",
      " ...\n",
      " [0.1621732 ]\n",
      " [0.16319444]\n",
      " [0.16584967]]\n"
     ]
    }
   ],
   "source": [
    "print(df1)"
   ]
  },
  {
   "cell_type": "markdown",
   "id": "81df419c",
   "metadata": {},
   "source": [
    " - #### Splitting data into training and test split"
   ]
  },
  {
   "cell_type": "code",
   "execution_count": 13,
   "id": "0953672d",
   "metadata": {},
   "outputs": [],
   "source": [
    "training_size = int(len(df1)*0.75)\n",
    "test_size=int(len(df1)) - training_size\n",
    "train_data, test_data = df1[0:training_size, :], df1[training_size:len(df1), :1]"
   ]
  },
  {
   "cell_type": "code",
   "execution_count": 14,
   "id": "aec5eb92",
   "metadata": {},
   "outputs": [],
   "source": [
    "def create_features(dataset, time_step=1):\n",
    "    dataX, dataY = [], []\n",
    "    for i in range(len(dataset)-time_step-1):\n",
    "        a=dataset[i:(i+time_step), 0]\n",
    "        dataX.append(a)\n",
    "        dataY.append(dataset[i + time_step, 0])\n",
    "    return np.array(dataX), np.array(dataY)    "
   ]
  },
  {
   "cell_type": "code",
   "execution_count": 15,
   "id": "4ddb8fbe",
   "metadata": {},
   "outputs": [],
   "source": [
    "ts = 100\n",
    "X_train, y_train = create_features(train_data, ts)\n",
    "X_test, y_test = create_features(test_data, ts)"
   ]
  },
  {
   "cell_type": "code",
   "execution_count": 16,
   "id": "e532993f",
   "metadata": {},
   "outputs": [],
   "source": [
    "X_train=X_train.reshape(X_train.shape[0], X_train.shape[1], 1)\n",
    "X_test=X_test.reshape(X_test.shape[0], X_test.shape[1], 1)"
   ]
  },
  {
   "cell_type": "markdown",
   "id": "58817536",
   "metadata": {},
   "source": [
    "- ### Creating Stacked LSTM model"
   ]
  },
  {
   "cell_type": "code",
   "execution_count": 17,
   "id": "9f440c42",
   "metadata": {},
   "outputs": [],
   "source": [
    "model = Sequential()\n",
    "model.add(LSTM(50,return_sequences=True, input_shape=(100,1)))\n",
    "model.add(LSTM(50,return_sequences=True))\n",
    "model.add(LSTM(50))\n",
    "model.add(Dense(1))\n",
    "model.compile(loss='mean_squared_error', optimizer='adam')"
   ]
  },
  {
   "cell_type": "code",
   "execution_count": 18,
   "id": "01db08f7",
   "metadata": {},
   "outputs": [
    {
     "name": "stdout",
     "output_type": "stream",
     "text": [
      "Model: \"sequential\"\n",
      "_________________________________________________________________\n",
      "Layer (type)                 Output Shape              Param #   \n",
      "=================================================================\n",
      "lstm (LSTM)                  (None, 100, 50)           10400     \n",
      "_________________________________________________________________\n",
      "lstm_1 (LSTM)                (None, 100, 50)           20200     \n",
      "_________________________________________________________________\n",
      "lstm_2 (LSTM)                (None, 50)                20200     \n",
      "_________________________________________________________________\n",
      "dense (Dense)                (None, 1)                 51        \n",
      "=================================================================\n",
      "Total params: 50,851\n",
      "Trainable params: 50,851\n",
      "Non-trainable params: 0\n",
      "_________________________________________________________________\n"
     ]
    }
   ],
   "source": [
    "model.summary()"
   ]
  },
  {
   "cell_type": "markdown",
   "id": "b42b64de",
   "metadata": {},
   "source": [
    "- ### Training the model"
   ]
  },
  {
   "cell_type": "code",
   "execution_count": 19,
   "id": "69efab11",
   "metadata": {},
   "outputs": [
    {
     "name": "stdout",
     "output_type": "stream",
     "text": [
      "Epoch 1/100\n",
      "23/23 [==============================] - 12s 233ms/step - loss: 0.0205 - val_loss: 0.0068\n",
      "Epoch 2/100\n",
      "23/23 [==============================] - 5s 201ms/step - loss: 0.0023 - val_loss: 7.3464e-04\n",
      "Epoch 3/100\n",
      "23/23 [==============================] - 5s 201ms/step - loss: 0.0015 - val_loss: 0.0013\n",
      "Epoch 4/100\n",
      "23/23 [==============================] - 5s 203ms/step - loss: 0.0014 - val_loss: 0.0014\n",
      "Epoch 5/100\n",
      "23/23 [==============================] - 5s 205ms/step - loss: 0.0014 - val_loss: 0.0013\n",
      "Epoch 6/100\n",
      "23/23 [==============================] - 5s 201ms/step - loss: 0.0012 - val_loss: 0.0012\n",
      "Epoch 7/100\n",
      "23/23 [==============================] - 5s 202ms/step - loss: 0.0012 - val_loss: 0.0011\n",
      "Epoch 8/100\n",
      "23/23 [==============================] - 5s 202ms/step - loss: 0.0011 - val_loss: 0.0010\n",
      "Epoch 9/100\n",
      "23/23 [==============================] - 5s 203ms/step - loss: 0.0011 - val_loss: 0.0011\n",
      "Epoch 10/100\n",
      "23/23 [==============================] - 5s 203ms/step - loss: 0.0011 - val_loss: 0.0010\n",
      "Epoch 11/100\n",
      "23/23 [==============================] - 5s 203ms/step - loss: 0.0010 - val_loss: 0.0011\n",
      "Epoch 12/100\n",
      "23/23 [==============================] - 5s 203ms/step - loss: 9.8506e-04 - val_loss: 8.9079e-04\n",
      "Epoch 13/100\n",
      "23/23 [==============================] - 5s 204ms/step - loss: 9.5616e-04 - val_loss: 9.3575e-04\n",
      "Epoch 14/100\n",
      "23/23 [==============================] - 5s 203ms/step - loss: 8.2482e-04 - val_loss: 5.5526e-04\n",
      "Epoch 15/100\n",
      "23/23 [==============================] - 5s 204ms/step - loss: 8.8272e-04 - val_loss: 9.3749e-04\n",
      "Epoch 16/100\n",
      "23/23 [==============================] - 5s 202ms/step - loss: 8.0452e-04 - val_loss: 6.8745e-04\n",
      "Epoch 17/100\n",
      "23/23 [==============================] - 5s 201ms/step - loss: 8.3128e-04 - val_loss: 6.1751e-04\n",
      "Epoch 18/100\n",
      "23/23 [==============================] - 5s 204ms/step - loss: 7.4553e-04 - val_loss: 7.1292e-04\n",
      "Epoch 19/100\n",
      "23/23 [==============================] - 5s 204ms/step - loss: 7.0035e-04 - val_loss: 6.7383e-04\n",
      "Epoch 20/100\n",
      "23/23 [==============================] - 5s 205ms/step - loss: 6.7734e-04 - val_loss: 5.7019e-04\n",
      "Epoch 21/100\n",
      "23/23 [==============================] - 5s 204ms/step - loss: 7.0323e-04 - val_loss: 6.2136e-04\n",
      "Epoch 22/100\n",
      "23/23 [==============================] - 5s 206ms/step - loss: 7.0411e-04 - val_loss: 6.1028e-04\n",
      "Epoch 23/100\n",
      "23/23 [==============================] - 5s 204ms/step - loss: 6.7417e-04 - val_loss: 5.0578e-04\n",
      "Epoch 24/100\n",
      "23/23 [==============================] - 5s 204ms/step - loss: 7.1640e-04 - val_loss: 7.5030e-04\n",
      "Epoch 25/100\n",
      "23/23 [==============================] - 5s 203ms/step - loss: 6.2025e-04 - val_loss: 5.6746e-04\n",
      "Epoch 26/100\n",
      "23/23 [==============================] - 5s 204ms/step - loss: 6.2231e-04 - val_loss: 5.9143e-04\n",
      "Epoch 27/100\n",
      "23/23 [==============================] - 5s 205ms/step - loss: 6.8971e-04 - val_loss: 7.1649e-04\n",
      "Epoch 28/100\n",
      "23/23 [==============================] - 5s 204ms/step - loss: 6.3760e-04 - val_loss: 6.6072e-04\n",
      "Epoch 29/100\n",
      "23/23 [==============================] - 5s 203ms/step - loss: 5.9041e-04 - val_loss: 4.7148e-04\n",
      "Epoch 30/100\n",
      "23/23 [==============================] - 5s 203ms/step - loss: 6.4359e-04 - val_loss: 5.4323e-04\n",
      "Epoch 31/100\n",
      "23/23 [==============================] - 5s 204ms/step - loss: 6.2475e-04 - val_loss: 5.8339e-04\n",
      "Epoch 32/100\n",
      "23/23 [==============================] - 5s 204ms/step - loss: 5.5059e-04 - val_loss: 5.9824e-04\n",
      "Epoch 33/100\n",
      "23/23 [==============================] - 5s 203ms/step - loss: 5.5134e-04 - val_loss: 6.1509e-04\n",
      "Epoch 34/100\n",
      "23/23 [==============================] - 5s 204ms/step - loss: 5.5175e-04 - val_loss: 6.6134e-04\n",
      "Epoch 35/100\n",
      "23/23 [==============================] - 5s 204ms/step - loss: 5.0876e-04 - val_loss: 4.6336e-04\n",
      "Epoch 36/100\n",
      "23/23 [==============================] - 5s 206ms/step - loss: 5.6276e-04 - val_loss: 6.2140e-04\n",
      "Epoch 37/100\n",
      "23/23 [==============================] - 5s 205ms/step - loss: 5.1339e-04 - val_loss: 6.9292e-04\n",
      "Epoch 38/100\n",
      "23/23 [==============================] - 5s 204ms/step - loss: 4.8778e-04 - val_loss: 6.8109e-04\n",
      "Epoch 39/100\n",
      "23/23 [==============================] - 5s 204ms/step - loss: 5.5401e-04 - val_loss: 5.1637e-04\n",
      "Epoch 40/100\n",
      "23/23 [==============================] - 5s 203ms/step - loss: 4.6903e-04 - val_loss: 3.9809e-04\n",
      "Epoch 41/100\n",
      "23/23 [==============================] - 5s 204ms/step - loss: 4.7761e-04 - val_loss: 6.3109e-04\n",
      "Epoch 42/100\n",
      "23/23 [==============================] - 5s 203ms/step - loss: 4.7094e-04 - val_loss: 4.7657e-04\n",
      "Epoch 43/100\n",
      "23/23 [==============================] - 5s 207ms/step - loss: 4.4977e-04 - val_loss: 4.8202e-04\n",
      "Epoch 44/100\n",
      "23/23 [==============================] - 5s 203ms/step - loss: 4.8250e-04 - val_loss: 4.5564e-04\n",
      "Epoch 45/100\n",
      "23/23 [==============================] - 5s 204ms/step - loss: 4.2112e-04 - val_loss: 4.6360e-04\n",
      "Epoch 46/100\n",
      "23/23 [==============================] - 5s 203ms/step - loss: 4.1961e-04 - val_loss: 3.5910e-04\n",
      "Epoch 47/100\n",
      "23/23 [==============================] - 5s 204ms/step - loss: 4.2729e-04 - val_loss: 3.7233e-04\n",
      "Epoch 48/100\n",
      "23/23 [==============================] - 5s 204ms/step - loss: 4.0409e-04 - val_loss: 3.7579e-04\n",
      "Epoch 49/100\n",
      "23/23 [==============================] - 5s 202ms/step - loss: 4.0602e-04 - val_loss: 4.2447e-04\n",
      "Epoch 50/100\n",
      "23/23 [==============================] - 5s 201ms/step - loss: 4.4393e-04 - val_loss: 7.3786e-04\n",
      "Epoch 51/100\n",
      "23/23 [==============================] - 5s 205ms/step - loss: 4.2197e-04 - val_loss: 3.6886e-04\n",
      "Epoch 52/100\n",
      "23/23 [==============================] - 5s 204ms/step - loss: 3.8848e-04 - val_loss: 4.0745e-04\n",
      "Epoch 53/100\n",
      "23/23 [==============================] - 5s 202ms/step - loss: 3.8012e-04 - val_loss: 3.6504e-04\n",
      "Epoch 54/100\n",
      "23/23 [==============================] - 5s 203ms/step - loss: 3.4471e-04 - val_loss: 2.7932e-04\n",
      "Epoch 55/100\n",
      "23/23 [==============================] - 5s 203ms/step - loss: 3.7547e-04 - val_loss: 3.2053e-04\n",
      "Epoch 56/100\n",
      "23/23 [==============================] - 5s 202ms/step - loss: 3.9653e-04 - val_loss: 4.2857e-04\n",
      "Epoch 57/100\n",
      "23/23 [==============================] - 5s 204ms/step - loss: 3.6873e-04 - val_loss: 4.3647e-04\n",
      "Epoch 58/100\n",
      "23/23 [==============================] - 5s 204ms/step - loss: 4.0249e-04 - val_loss: 4.3336e-04\n",
      "Epoch 59/100\n",
      "23/23 [==============================] - 5s 203ms/step - loss: 3.3847e-04 - val_loss: 3.2685e-04\n",
      "Epoch 60/100\n",
      "23/23 [==============================] - 5s 202ms/step - loss: 3.4506e-04 - val_loss: 3.2010e-04\n",
      "Epoch 61/100\n",
      "23/23 [==============================] - 5s 203ms/step - loss: 3.3421e-04 - val_loss: 3.0289e-04\n",
      "Epoch 62/100\n",
      "23/23 [==============================] - 5s 203ms/step - loss: 3.2308e-04 - val_loss: 2.7809e-04\n",
      "Epoch 63/100\n",
      "23/23 [==============================] - 5s 204ms/step - loss: 3.2341e-04 - val_loss: 2.9747e-04\n",
      "Epoch 64/100\n",
      "23/23 [==============================] - 5s 205ms/step - loss: 3.4553e-04 - val_loss: 2.8856e-04\n",
      "Epoch 65/100\n",
      "23/23 [==============================] - 5s 203ms/step - loss: 2.8492e-04 - val_loss: 3.0087e-04\n",
      "Epoch 66/100\n",
      "23/23 [==============================] - 5s 204ms/step - loss: 2.9417e-04 - val_loss: 3.2636e-04\n",
      "Epoch 67/100\n",
      "23/23 [==============================] - 5s 202ms/step - loss: 2.8044e-04 - val_loss: 3.3289e-04\n",
      "Epoch 68/100\n",
      "23/23 [==============================] - 5s 203ms/step - loss: 2.7268e-04 - val_loss: 2.4502e-04\n",
      "Epoch 69/100\n",
      "23/23 [==============================] - 5s 202ms/step - loss: 2.5550e-04 - val_loss: 2.8897e-04\n",
      "Epoch 70/100\n",
      "23/23 [==============================] - 5s 202ms/step - loss: 3.4523e-04 - val_loss: 3.9766e-04\n",
      "Epoch 71/100\n",
      "23/23 [==============================] - 5s 203ms/step - loss: 2.9822e-04 - val_loss: 4.5965e-04\n",
      "Epoch 72/100\n",
      "23/23 [==============================] - 5s 204ms/step - loss: 3.0415e-04 - val_loss: 3.4325e-04\n",
      "Epoch 73/100\n",
      "23/23 [==============================] - 5s 202ms/step - loss: 2.9181e-04 - val_loss: 3.4874e-04\n",
      "Epoch 74/100\n",
      "23/23 [==============================] - 5s 201ms/step - loss: 2.5443e-04 - val_loss: 2.5390e-04\n",
      "Epoch 75/100\n",
      "23/23 [==============================] - 5s 202ms/step - loss: 2.3966e-04 - val_loss: 3.6677e-04\n",
      "Epoch 76/100\n"
     ]
    },
    {
     "name": "stdout",
     "output_type": "stream",
     "text": [
      "23/23 [==============================] - 5s 203ms/step - loss: 2.7567e-04 - val_loss: 3.4049e-04\n",
      "Epoch 77/100\n",
      "23/23 [==============================] - 5s 204ms/step - loss: 2.3603e-04 - val_loss: 2.0116e-04\n",
      "Epoch 78/100\n",
      "23/23 [==============================] - 5s 203ms/step - loss: 2.4568e-04 - val_loss: 2.9171e-04\n",
      "Epoch 79/100\n",
      "23/23 [==============================] - 5s 203ms/step - loss: 2.6176e-04 - val_loss: 3.2722e-04\n",
      "Epoch 80/100\n",
      "23/23 [==============================] - 5s 204ms/step - loss: 4.9570e-04 - val_loss: 3.6019e-04\n",
      "Epoch 81/100\n",
      "23/23 [==============================] - 5s 203ms/step - loss: 3.3384e-04 - val_loss: 4.0674e-04\n",
      "Epoch 82/100\n",
      "23/23 [==============================] - 5s 204ms/step - loss: 3.1025e-04 - val_loss: 1.8978e-04\n",
      "Epoch 83/100\n",
      "23/23 [==============================] - 5s 203ms/step - loss: 2.4794e-04 - val_loss: 2.0817e-04\n",
      "Epoch 84/100\n",
      "23/23 [==============================] - 5s 204ms/step - loss: 2.3117e-04 - val_loss: 2.2862e-04\n",
      "Epoch 85/100\n",
      "23/23 [==============================] - 5s 202ms/step - loss: 2.4992e-04 - val_loss: 2.3206e-04\n",
      "Epoch 86/100\n",
      "23/23 [==============================] - 5s 204ms/step - loss: 2.3856e-04 - val_loss: 2.5752e-04\n",
      "Epoch 87/100\n",
      "23/23 [==============================] - 5s 202ms/step - loss: 2.1702e-04 - val_loss: 2.0991e-04\n",
      "Epoch 88/100\n",
      "23/23 [==============================] - 5s 202ms/step - loss: 2.2957e-04 - val_loss: 2.7089e-04\n",
      "Epoch 89/100\n",
      "23/23 [==============================] - 5s 203ms/step - loss: 2.2860e-04 - val_loss: 1.9652e-04\n",
      "Epoch 90/100\n",
      "23/23 [==============================] - 5s 202ms/step - loss: 2.3744e-04 - val_loss: 2.5395e-04\n",
      "Epoch 91/100\n",
      "23/23 [==============================] - 5s 203ms/step - loss: 2.1194e-04 - val_loss: 2.7315e-04\n",
      "Epoch 92/100\n",
      "23/23 [==============================] - 5s 202ms/step - loss: 2.0638e-04 - val_loss: 2.6097e-04\n",
      "Epoch 93/100\n",
      "23/23 [==============================] - 5s 204ms/step - loss: 2.1244e-04 - val_loss: 2.7483e-04\n",
      "Epoch 94/100\n",
      "23/23 [==============================] - 5s 205ms/step - loss: 2.4456e-04 - val_loss: 2.4338e-04\n",
      "Epoch 95/100\n",
      "23/23 [==============================] - 5s 208ms/step - loss: 2.0692e-04 - val_loss: 2.8292e-04\n",
      "Epoch 96/100\n",
      "23/23 [==============================] - 5s 212ms/step - loss: 2.1318e-04 - val_loss: 1.9817e-04\n",
      "Epoch 97/100\n",
      "23/23 [==============================] - 5s 204ms/step - loss: 2.0508e-04 - val_loss: 2.2429e-04\n",
      "Epoch 98/100\n",
      "23/23 [==============================] - 5s 204ms/step - loss: 2.0878e-04 - val_loss: 1.6106e-04\n",
      "Epoch 99/100\n",
      "23/23 [==============================] - 5s 203ms/step - loss: 2.1564e-04 - val_loss: 1.6298e-04\n",
      "Epoch 100/100\n",
      "23/23 [==============================] - 5s 203ms/step - loss: 2.3578e-04 - val_loss: 2.1973e-04\n"
     ]
    },
    {
     "data": {
      "text/plain": [
       "<tensorflow.python.keras.callbacks.History at 0x190899a7e80>"
      ]
     },
     "execution_count": 19,
     "metadata": {},
     "output_type": "execute_result"
    }
   ],
   "source": [
    "model.fit(X_train, y_train, validation_data=(X_test, y_test), epochs=100, batch_size=64, verbose=1)"
   ]
  },
  {
   "cell_type": "markdown",
   "id": "ad55fe1b",
   "metadata": {},
   "source": [
    "- ### Predicting and checking performance metrics"
   ]
  },
  {
   "cell_type": "code",
   "execution_count": 28,
   "id": "530177a8",
   "metadata": {},
   "outputs": [],
   "source": [
    "train_predict=model.predict(X_train)\n",
    "test_predict=model.predict(X_test)"
   ]
  },
  {
   "cell_type": "code",
   "execution_count": 29,
   "id": "fdcfa32c",
   "metadata": {},
   "outputs": [],
   "source": [
    "train_predict = scaler.inverse_transform(train_predict)\n",
    "test_predict = scaler.inverse_transform(test_predict)"
   ]
  },
  {
   "cell_type": "markdown",
   "id": "60609898",
   "metadata": {},
   "source": [
    " - ### Calculating RMSE performance metrics"
   ]
  },
  {
   "cell_type": "code",
   "execution_count": 30,
   "id": "b42894dd",
   "metadata": {},
   "outputs": [
    {
     "data": {
      "text/plain": [
       "166.16423189471737"
      ]
     },
     "execution_count": 30,
     "metadata": {},
     "output_type": "execute_result"
    }
   ],
   "source": [
    "math.sqrt(mean_squared_error(y_train,train_predict))"
   ]
  },
  {
   "cell_type": "code",
   "execution_count": 31,
   "id": "0ca5f0dd",
   "metadata": {},
   "outputs": [
    {
     "data": {
      "text/plain": [
       "116.27256153667257"
      ]
     },
     "execution_count": 31,
     "metadata": {},
     "output_type": "execute_result"
    }
   ],
   "source": [
    "math.sqrt(mean_squared_error(y_test,test_predict))"
   ]
  },
  {
   "cell_type": "markdown",
   "id": "e9b46122",
   "metadata": {},
   "source": [
    " - ### Plotting "
   ]
  },
  {
   "cell_type": "code",
   "execution_count": 33,
   "id": "5b2468af",
   "metadata": {},
   "outputs": [
    {
     "data": {
      "image/png": "[encoded data removed]",
      "text/plain": [
       "<Figure size 432x288 with 1 Axes>"
      ]
     },
     "metadata": {
      "needs_background": "light"
     },
     "output_type": "display_data"
    }
   ],
   "source": [
    "look_back=100\n",
    "trainPredictPlot = np.empty_like(df1)\n",
    "trainPredictPlot[:, :] = np.nan\n",
    "trainPredictPlot[look_back:len(train_predict)+look_back, :] = train_predict\n",
    "\n",
    "testPredictPlot = np.empty_like(df1)\n",
    "testPredictPlot[:, :] = np.nan\n",
    "testPredictPlot[len(train_predict)+(look_back*2)+1:len(df1)-1, :] = test_predict\n",
    "\n",
    "plt.plot(scaler.inverse_transform(df1))\n",
    "plt.plot(trainPredictPlot)\n",
    "plt.plot(testPredictPlot)\n",
    "plt.show()"
   ]
  },
  {
   "cell_type": "code",
   "execution_count": 20,
   "id": "b90382b8",
   "metadata": {},
   "outputs": [
    {
     "data": {
      "text/plain": [
       "509"
      ]
     },
     "execution_count": 20,
     "metadata": {},
     "output_type": "execute_result"
    }
   ],
   "source": [
    "len(test_data)"
   ]
  },
  {
   "cell_type": "code",
   "execution_count": 21,
   "id": "28253f37",
   "metadata": {},
   "outputs": [
    {
     "data": {
      "text/plain": [
       "(1, 100)"
      ]
     },
     "execution_count": 21,
     "metadata": {},
     "output_type": "execute_result"
    }
   ],
   "source": [
    "x_input=test_data[409:].reshape(1,-1)\n",
    "x_input.shape"
   ]
  },
  {
   "cell_type": "code",
   "execution_count": 23,
   "id": "088e82c1",
   "metadata": {},
   "outputs": [
    {
     "data": {
      "text/plain": [
       "[0.12479575163398693,\n",
       " 0.1384803921568627,\n",
       " 0.14011437908496732,\n",
       " 0.1388888888888889,\n",
       " 0.13541666666666663,\n",
       " 0.14011437908496732,\n",
       " 0.13807189542483655,\n",
       " 0.130718954248366,\n",
       " 0.130718954248366,\n",
       " 0.12867647058823528,\n",
       " 0.11846405228758167,\n",
       " 0.14644607843137253,\n",
       " 0.1480800653594771,\n",
       " 0.159109477124183,\n",
       " 0.15992647058823523,\n",
       " 0.1578839869281045,\n",
       " 0.16441993464052285,\n",
       " 0.178921568627451,\n",
       " 0.17933006535947704,\n",
       " 0.19260620915032678,\n",
       " 0.2081290849673203,\n",
       " 0.18974673202614378,\n",
       " 0.18055555555555558,\n",
       " 0.1823937908496731,\n",
       " 0.17708333333333326,\n",
       " 0.17810457516339862,\n",
       " 0.18055555555555558,\n",
       " 0.17810457516339862,\n",
       " 0.17851307189542487,\n",
       " 0.196078431372549,\n",
       " 0.18913398692810457,\n",
       " 0.1895424836601307,\n",
       " 0.19403594771241828,\n",
       " 0.19444444444444442,\n",
       " 0.20200163398692816,\n",
       " 0.19771241830065356,\n",
       " 0.19934640522875813,\n",
       " 0.19873366013071891,\n",
       " 0.19975490196078427,\n",
       " 0.21282679738562094,\n",
       " 0.21568627450980393,\n",
       " 0.2044526143790849,\n",
       " 0.21772875816993464,\n",
       " 0.21098856209150318,\n",
       " 0.21425653594771243,\n",
       " 0.1975081699346406,\n",
       " 0.1881127450980392,\n",
       " 0.17851307189542487,\n",
       " 0.17381535947712412,\n",
       " 0.16033496732026142,\n",
       " 0.16564542483660127,\n",
       " 0.1711601307189542,\n",
       " 0.17422385620915026,\n",
       " 0.1803513071895424,\n",
       " 0.1740196078431372,\n",
       " 0.16278594771241828,\n",
       " 0.1697303921568627,\n",
       " 0.17810457516339862,\n",
       " 0.1703431372549019,\n",
       " 0.16830065359477125,\n",
       " 0.17279411764705876,\n",
       " 0.1754493464052288,\n",
       " 0.18382352941176472,\n",
       " 0.19138071895424835,\n",
       " 0.18913398692810457,\n",
       " 0.1909722222222222,\n",
       " 0.17238562091503273,\n",
       " 0.16830065359477125,\n",
       " 0.16932189542483655,\n",
       " 0.1717728758169934,\n",
       " 0.16156045751633985,\n",
       " 0.14971405228758167,\n",
       " 0.15032679738562088,\n",
       " 0.1519607843137255,\n",
       " 0.1472630718954248,\n",
       " 0.14501633986928103,\n",
       " 0.14603758169934639,\n",
       " 0.12479575163398693,\n",
       " 0.13112745098039214,\n",
       " 0.11397058823529405,\n",
       " 0.11907679738562088,\n",
       " 0.12377450980392157,\n",
       " 0.13562091503267976,\n",
       " 0.12908496732026142,\n",
       " 0.1345996732026144,\n",
       " 0.12806372549019607,\n",
       " 0.13031045751633985,\n",
       " 0.12724673202614373,\n",
       " 0.13521241830065356,\n",
       " 0.1452205882352941,\n",
       " 0.15257352941176466,\n",
       " 0.14848856209150324,\n",
       " 0.14338235294117646,\n",
       " 0.14562908496732024,\n",
       " 0.1523692810457516,\n",
       " 0.15400326797385622,\n",
       " 0.14971405228758167,\n",
       " 0.16217320261437906,\n",
       " 0.16319444444444448,\n",
       " 0.16584967320261434]"
      ]
     },
     "execution_count": 23,
     "metadata": {},
     "output_type": "execute_result"
    }
   ],
   "source": [
    "temp_input=list(x_input)\n",
    "temp_input=temp_input[0].tolist()\n",
    "temp_input"
   ]
  },
  {
   "cell_type": "markdown",
   "id": "f76d78b1",
   "metadata": {},
   "source": [
    "- ### For predicting values of next 30 days"
   ]
  },
  {
   "cell_type": "code",
   "execution_count": 24,
   "id": "00ab0c13",
   "metadata": {},
   "outputs": [
    {
     "name": "stdout",
     "output_type": "stream",
     "text": [
      "[0.16658863]\n",
      "101\n",
      "1 day input [0.13848039 0.14011438 0.13888889 0.13541667 0.14011438 0.1380719\n",
      " 0.13071895 0.13071895 0.12867647 0.11846405 0.14644608 0.14808007\n",
      " 0.15910948 0.15992647 0.15788399 0.16441993 0.17892157 0.17933007\n",
      " 0.19260621 0.20812908 0.18974673 0.18055556 0.18239379 0.17708333\n",
      " 0.17810458 0.18055556 0.17810458 0.17851307 0.19607843 0.18913399\n",
      " 0.18954248 0.19403595 0.19444444 0.20200163 0.19771242 0.19934641\n",
      " 0.19873366 0.1997549  0.2128268  0.21568627 0.20445261 0.21772876\n",
      " 0.21098856 0.21425654 0.19750817 0.18811275 0.17851307 0.17381536\n",
      " 0.16033497 0.16564542 0.17116013 0.17422386 0.18035131 0.17401961\n",
      " 0.16278595 0.16973039 0.17810458 0.17034314 0.16830065 0.17279412\n",
      " 0.17544935 0.18382353 0.19138072 0.18913399 0.19097222 0.17238562\n",
      " 0.16830065 0.1693219  0.17177288 0.16156046 0.14971405 0.1503268\n",
      " 0.15196078 0.14726307 0.14501634 0.14603758 0.12479575 0.13112745\n",
      " 0.11397059 0.1190768  0.12377451 0.13562092 0.12908497 0.13459967\n",
      " 0.12806373 0.13031046 0.12724673 0.13521242 0.14522059 0.15257353\n",
      " 0.14848856 0.14338235 0.14562908 0.15236928 0.15400327 0.14971405\n",
      " 0.1621732  0.16319444 0.16584967 0.16658863]\n",
      "1 day output [[0.16845405]]\n",
      "2 day input [0.14011438 0.13888889 0.13541667 0.14011438 0.1380719  0.13071895\n",
      " 0.13071895 0.12867647 0.11846405 0.14644608 0.14808007 0.15910948\n",
      " 0.15992647 0.15788399 0.16441993 0.17892157 0.17933007 0.19260621\n",
      " 0.20812908 0.18974673 0.18055556 0.18239379 0.17708333 0.17810458\n",
      " 0.18055556 0.17810458 0.17851307 0.19607843 0.18913399 0.18954248\n",
      " 0.19403595 0.19444444 0.20200163 0.19771242 0.19934641 0.19873366\n",
      " 0.1997549  0.2128268  0.21568627 0.20445261 0.21772876 0.21098856\n",
      " 0.21425654 0.19750817 0.18811275 0.17851307 0.17381536 0.16033497\n",
      " 0.16564542 0.17116013 0.17422386 0.18035131 0.17401961 0.16278595\n",
      " 0.16973039 0.17810458 0.17034314 0.16830065 0.17279412 0.17544935\n",
      " 0.18382353 0.19138072 0.18913399 0.19097222 0.17238562 0.16830065\n",
      " 0.1693219  0.17177288 0.16156046 0.14971405 0.1503268  0.15196078\n",
      " 0.14726307 0.14501634 0.14603758 0.12479575 0.13112745 0.11397059\n",
      " 0.1190768  0.12377451 0.13562092 0.12908497 0.13459967 0.12806373\n",
      " 0.13031046 0.12724673 0.13521242 0.14522059 0.15257353 0.14848856\n",
      " 0.14338235 0.14562908 0.15236928 0.15400327 0.14971405 0.1621732\n",
      " 0.16319444 0.16584967 0.16658863 0.16845405]\n",
      "2 day output [[0.16966209]]\n",
      "3 day input [0.13888889 0.13541667 0.14011438 0.1380719  0.13071895 0.13071895\n",
      " 0.12867647 0.11846405 0.14644608 0.14808007 0.15910948 0.15992647\n",
      " 0.15788399 0.16441993 0.17892157 0.17933007 0.19260621 0.20812908\n",
      " 0.18974673 0.18055556 0.18239379 0.17708333 0.17810458 0.18055556\n",
      " 0.17810458 0.17851307 0.19607843 0.18913399 0.18954248 0.19403595\n",
      " 0.19444444 0.20200163 0.19771242 0.19934641 0.19873366 0.1997549\n",
      " 0.2128268  0.21568627 0.20445261 0.21772876 0.21098856 0.21425654\n",
      " 0.19750817 0.18811275 0.17851307 0.17381536 0.16033497 0.16564542\n",
      " 0.17116013 0.17422386 0.18035131 0.17401961 0.16278595 0.16973039\n",
      " 0.17810458 0.17034314 0.16830065 0.17279412 0.17544935 0.18382353\n",
      " 0.19138072 0.18913399 0.19097222 0.17238562 0.16830065 0.1693219\n",
      " 0.17177288 0.16156046 0.14971405 0.1503268  0.15196078 0.14726307\n",
      " 0.14501634 0.14603758 0.12479575 0.13112745 0.11397059 0.1190768\n",
      " 0.12377451 0.13562092 0.12908497 0.13459967 0.12806373 0.13031046\n",
      " 0.12724673 0.13521242 0.14522059 0.15257353 0.14848856 0.14338235\n",
      " 0.14562908 0.15236928 0.15400327 0.14971405 0.1621732  0.16319444\n",
      " 0.16584967 0.16658863 0.16845405 0.16966209]\n",
      "3 day output [[0.1706104]]\n",
      "4 day input [0.13541667 0.14011438 0.1380719  0.13071895 0.13071895 0.12867647\n",
      " 0.11846405 0.14644608 0.14808007 0.15910948 0.15992647 0.15788399\n",
      " 0.16441993 0.17892157 0.17933007 0.19260621 0.20812908 0.18974673\n",
      " 0.18055556 0.18239379 0.17708333 0.17810458 0.18055556 0.17810458\n",
      " 0.17851307 0.19607843 0.18913399 0.18954248 0.19403595 0.19444444\n",
      " 0.20200163 0.19771242 0.19934641 0.19873366 0.1997549  0.2128268\n",
      " 0.21568627 0.20445261 0.21772876 0.21098856 0.21425654 0.19750817\n",
      " 0.18811275 0.17851307 0.17381536 0.16033497 0.16564542 0.17116013\n",
      " 0.17422386 0.18035131 0.17401961 0.16278595 0.16973039 0.17810458\n",
      " 0.17034314 0.16830065 0.17279412 0.17544935 0.18382353 0.19138072\n",
      " 0.18913399 0.19097222 0.17238562 0.16830065 0.1693219  0.17177288\n",
      " 0.16156046 0.14971405 0.1503268  0.15196078 0.14726307 0.14501634\n",
      " 0.14603758 0.12479575 0.13112745 0.11397059 0.1190768  0.12377451\n",
      " 0.13562092 0.12908497 0.13459967 0.12806373 0.13031046 0.12724673\n",
      " 0.13521242 0.14522059 0.15257353 0.14848856 0.14338235 0.14562908\n",
      " 0.15236928 0.15400327 0.14971405 0.1621732  0.16319444 0.16584967\n",
      " 0.16658863 0.16845405 0.16966209 0.1706104 ]\n",
      "4 day output [[0.17143299]]\n",
      "5 day input [0.14011438 0.1380719  0.13071895 0.13071895 0.12867647 0.11846405\n",
      " 0.14644608 0.14808007 0.15910948 0.15992647 0.15788399 0.16441993\n",
      " 0.17892157 0.17933007 0.19260621 0.20812908 0.18974673 0.18055556\n",
      " 0.18239379 0.17708333 0.17810458 0.18055556 0.17810458 0.17851307\n",
      " 0.19607843 0.18913399 0.18954248 0.19403595 0.19444444 0.20200163\n",
      " 0.19771242 0.19934641 0.19873366 0.1997549  0.2128268  0.21568627\n",
      " 0.20445261 0.21772876 0.21098856 0.21425654 0.19750817 0.18811275\n",
      " 0.17851307 0.17381536 0.16033497 0.16564542 0.17116013 0.17422386\n",
      " 0.18035131 0.17401961 0.16278595 0.16973039 0.17810458 0.17034314\n",
      " 0.16830065 0.17279412 0.17544935 0.18382353 0.19138072 0.18913399\n",
      " 0.19097222 0.17238562 0.16830065 0.1693219  0.17177288 0.16156046\n",
      " 0.14971405 0.1503268  0.15196078 0.14726307 0.14501634 0.14603758\n",
      " 0.12479575 0.13112745 0.11397059 0.1190768  0.12377451 0.13562092\n",
      " 0.12908497 0.13459967 0.12806373 0.13031046 0.12724673 0.13521242\n",
      " 0.14522059 0.15257353 0.14848856 0.14338235 0.14562908 0.15236928\n",
      " 0.15400327 0.14971405 0.1621732  0.16319444 0.16584967 0.16658863\n",
      " 0.16845405 0.16966209 0.1706104  0.17143299]\n",
      "5 day output [[0.17218892]]\n",
      "6 day input [0.1380719  0.13071895 0.13071895 0.12867647 0.11846405 0.14644608\n",
      " 0.14808007 0.15910948 0.15992647 0.15788399 0.16441993 0.17892157\n",
      " 0.17933007 0.19260621 0.20812908 0.18974673 0.18055556 0.18239379\n",
      " 0.17708333 0.17810458 0.18055556 0.17810458 0.17851307 0.19607843\n",
      " 0.18913399 0.18954248 0.19403595 0.19444444 0.20200163 0.19771242\n",
      " 0.19934641 0.19873366 0.1997549  0.2128268  0.21568627 0.20445261\n",
      " 0.21772876 0.21098856 0.21425654 0.19750817 0.18811275 0.17851307\n",
      " 0.17381536 0.16033497 0.16564542 0.17116013 0.17422386 0.18035131\n",
      " 0.17401961 0.16278595 0.16973039 0.17810458 0.17034314 0.16830065\n",
      " 0.17279412 0.17544935 0.18382353 0.19138072 0.18913399 0.19097222\n",
      " 0.17238562 0.16830065 0.1693219  0.17177288 0.16156046 0.14971405\n",
      " 0.1503268  0.15196078 0.14726307 0.14501634 0.14603758 0.12479575\n",
      " 0.13112745 0.11397059 0.1190768  0.12377451 0.13562092 0.12908497\n",
      " 0.13459967 0.12806373 0.13031046 0.12724673 0.13521242 0.14522059\n",
      " 0.15257353 0.14848856 0.14338235 0.14562908 0.15236928 0.15400327\n",
      " 0.14971405 0.1621732  0.16319444 0.16584967 0.16658863 0.16845405\n",
      " 0.16966209 0.1706104  0.17143299 0.17218892]\n",
      "6 day output [[0.17291272]]\n",
      "7 day input [0.13071895 0.13071895 0.12867647 0.11846405 0.14644608 0.14808007\n",
      " 0.15910948 0.15992647 0.15788399 0.16441993 0.17892157 0.17933007\n",
      " 0.19260621 0.20812908 0.18974673 0.18055556 0.18239379 0.17708333\n",
      " 0.17810458 0.18055556 0.17810458 0.17851307 0.19607843 0.18913399\n",
      " 0.18954248 0.19403595 0.19444444 0.20200163 0.19771242 0.19934641\n",
      " 0.19873366 0.1997549  0.2128268  0.21568627 0.20445261 0.21772876\n",
      " 0.21098856 0.21425654 0.19750817 0.18811275 0.17851307 0.17381536\n",
      " 0.16033497 0.16564542 0.17116013 0.17422386 0.18035131 0.17401961\n",
      " 0.16278595 0.16973039 0.17810458 0.17034314 0.16830065 0.17279412\n",
      " 0.17544935 0.18382353 0.19138072 0.18913399 0.19097222 0.17238562\n",
      " 0.16830065 0.1693219  0.17177288 0.16156046 0.14971405 0.1503268\n",
      " 0.15196078 0.14726307 0.14501634 0.14603758 0.12479575 0.13112745\n",
      " 0.11397059 0.1190768  0.12377451 0.13562092 0.12908497 0.13459967\n",
      " 0.12806373 0.13031046 0.12724673 0.13521242 0.14522059 0.15257353\n",
      " 0.14848856 0.14338235 0.14562908 0.15236928 0.15400327 0.14971405\n",
      " 0.1621732  0.16319444 0.16584967 0.16658863 0.16845405 0.16966209\n",
      " 0.1706104  0.17143299 0.17218892 0.17291272]\n",
      "7 day output [[0.17362468]]\n",
      "8 day input [0.13071895 0.12867647 0.11846405 0.14644608 0.14808007 0.15910948\n",
      " 0.15992647 0.15788399 0.16441993 0.17892157 0.17933007 0.19260621\n",
      " 0.20812908 0.18974673 0.18055556 0.18239379 0.17708333 0.17810458\n",
      " 0.18055556 0.17810458 0.17851307 0.19607843 0.18913399 0.18954248\n",
      " 0.19403595 0.19444444 0.20200163 0.19771242 0.19934641 0.19873366\n",
      " 0.1997549  0.2128268  0.21568627 0.20445261 0.21772876 0.21098856\n",
      " 0.21425654 0.19750817 0.18811275 0.17851307 0.17381536 0.16033497\n",
      " 0.16564542 0.17116013 0.17422386 0.18035131 0.17401961 0.16278595\n",
      " 0.16973039 0.17810458 0.17034314 0.16830065 0.17279412 0.17544935\n",
      " 0.18382353 0.19138072 0.18913399 0.19097222 0.17238562 0.16830065\n",
      " 0.1693219  0.17177288 0.16156046 0.14971405 0.1503268  0.15196078\n",
      " 0.14726307 0.14501634 0.14603758 0.12479575 0.13112745 0.11397059\n",
      " 0.1190768  0.12377451 0.13562092 0.12908497 0.13459967 0.12806373\n",
      " 0.13031046 0.12724673 0.13521242 0.14522059 0.15257353 0.14848856\n",
      " 0.14338235 0.14562908 0.15236928 0.15400327 0.14971405 0.1621732\n",
      " 0.16319444 0.16584967 0.16658863 0.16845405 0.16966209 0.1706104\n",
      " 0.17143299 0.17218892 0.17291272 0.17362468]\n",
      "8 day output [[0.17433469]]\n",
      "9 day input [0.12867647 0.11846405 0.14644608 0.14808007 0.15910948 0.15992647\n",
      " 0.15788399 0.16441993 0.17892157 0.17933007 0.19260621 0.20812908\n",
      " 0.18974673 0.18055556 0.18239379 0.17708333 0.17810458 0.18055556\n",
      " 0.17810458 0.17851307 0.19607843 0.18913399 0.18954248 0.19403595\n",
      " 0.19444444 0.20200163 0.19771242 0.19934641 0.19873366 0.1997549\n",
      " 0.2128268  0.21568627 0.20445261 0.21772876 0.21098856 0.21425654\n",
      " 0.19750817 0.18811275 0.17851307 0.17381536 0.16033497 0.16564542\n",
      " 0.17116013 0.17422386 0.18035131 0.17401961 0.16278595 0.16973039\n",
      " 0.17810458 0.17034314 0.16830065 0.17279412 0.17544935 0.18382353\n",
      " 0.19138072 0.18913399 0.19097222 0.17238562 0.16830065 0.1693219\n",
      " 0.17177288 0.16156046 0.14971405 0.1503268  0.15196078 0.14726307\n",
      " 0.14501634 0.14603758 0.12479575 0.13112745 0.11397059 0.1190768\n",
      " 0.12377451 0.13562092 0.12908497 0.13459967 0.12806373 0.13031046\n",
      " 0.12724673 0.13521242 0.14522059 0.15257353 0.14848856 0.14338235\n",
      " 0.14562908 0.15236928 0.15400327 0.14971405 0.1621732  0.16319444\n",
      " 0.16584967 0.16658863 0.16845405 0.16966209 0.1706104  0.17143299\n",
      " 0.17218892 0.17291272 0.17362468 0.17433469]\n"
     ]
    },
    {
     "name": "stdout",
     "output_type": "stream",
     "text": [
      "9 day output [[0.17504546]]\n",
      "10 day input [0.11846405 0.14644608 0.14808007 0.15910948 0.15992647 0.15788399\n",
      " 0.16441993 0.17892157 0.17933007 0.19260621 0.20812908 0.18974673\n",
      " 0.18055556 0.18239379 0.17708333 0.17810458 0.18055556 0.17810458\n",
      " 0.17851307 0.19607843 0.18913399 0.18954248 0.19403595 0.19444444\n",
      " 0.20200163 0.19771242 0.19934641 0.19873366 0.1997549  0.2128268\n",
      " 0.21568627 0.20445261 0.21772876 0.21098856 0.21425654 0.19750817\n",
      " 0.18811275 0.17851307 0.17381536 0.16033497 0.16564542 0.17116013\n",
      " 0.17422386 0.18035131 0.17401961 0.16278595 0.16973039 0.17810458\n",
      " 0.17034314 0.16830065 0.17279412 0.17544935 0.18382353 0.19138072\n",
      " 0.18913399 0.19097222 0.17238562 0.16830065 0.1693219  0.17177288\n",
      " 0.16156046 0.14971405 0.1503268  0.15196078 0.14726307 0.14501634\n",
      " 0.14603758 0.12479575 0.13112745 0.11397059 0.1190768  0.12377451\n",
      " 0.13562092 0.12908497 0.13459967 0.12806373 0.13031046 0.12724673\n",
      " 0.13521242 0.14522059 0.15257353 0.14848856 0.14338235 0.14562908\n",
      " 0.15236928 0.15400327 0.14971405 0.1621732  0.16319444 0.16584967\n",
      " 0.16658863 0.16845405 0.16966209 0.1706104  0.17143299 0.17218892\n",
      " 0.17291272 0.17362468 0.17433469 0.17504546]\n",
      "10 day output [[0.17575553]]\n",
      "11 day input [0.14644608 0.14808007 0.15910948 0.15992647 0.15788399 0.16441993\n",
      " 0.17892157 0.17933007 0.19260621 0.20812908 0.18974673 0.18055556\n",
      " 0.18239379 0.17708333 0.17810458 0.18055556 0.17810458 0.17851307\n",
      " 0.19607843 0.18913399 0.18954248 0.19403595 0.19444444 0.20200163\n",
      " 0.19771242 0.19934641 0.19873366 0.1997549  0.2128268  0.21568627\n",
      " 0.20445261 0.21772876 0.21098856 0.21425654 0.19750817 0.18811275\n",
      " 0.17851307 0.17381536 0.16033497 0.16564542 0.17116013 0.17422386\n",
      " 0.18035131 0.17401961 0.16278595 0.16973039 0.17810458 0.17034314\n",
      " 0.16830065 0.17279412 0.17544935 0.18382353 0.19138072 0.18913399\n",
      " 0.19097222 0.17238562 0.16830065 0.1693219  0.17177288 0.16156046\n",
      " 0.14971405 0.1503268  0.15196078 0.14726307 0.14501634 0.14603758\n",
      " 0.12479575 0.13112745 0.11397059 0.1190768  0.12377451 0.13562092\n",
      " 0.12908497 0.13459967 0.12806373 0.13031046 0.12724673 0.13521242\n",
      " 0.14522059 0.15257353 0.14848856 0.14338235 0.14562908 0.15236928\n",
      " 0.15400327 0.14971405 0.1621732  0.16319444 0.16584967 0.16658863\n",
      " 0.16845405 0.16966209 0.1706104  0.17143299 0.17218892 0.17291272\n",
      " 0.17362468 0.17433469 0.17504546 0.17575553]\n",
      "11 day output [[0.17646147]]\n",
      "12 day input [0.14808007 0.15910948 0.15992647 0.15788399 0.16441993 0.17892157\n",
      " 0.17933007 0.19260621 0.20812908 0.18974673 0.18055556 0.18239379\n",
      " 0.17708333 0.17810458 0.18055556 0.17810458 0.17851307 0.19607843\n",
      " 0.18913399 0.18954248 0.19403595 0.19444444 0.20200163 0.19771242\n",
      " 0.19934641 0.19873366 0.1997549  0.2128268  0.21568627 0.20445261\n",
      " 0.21772876 0.21098856 0.21425654 0.19750817 0.18811275 0.17851307\n",
      " 0.17381536 0.16033497 0.16564542 0.17116013 0.17422386 0.18035131\n",
      " 0.17401961 0.16278595 0.16973039 0.17810458 0.17034314 0.16830065\n",
      " 0.17279412 0.17544935 0.18382353 0.19138072 0.18913399 0.19097222\n",
      " 0.17238562 0.16830065 0.1693219  0.17177288 0.16156046 0.14971405\n",
      " 0.1503268  0.15196078 0.14726307 0.14501634 0.14603758 0.12479575\n",
      " 0.13112745 0.11397059 0.1190768  0.12377451 0.13562092 0.12908497\n",
      " 0.13459967 0.12806373 0.13031046 0.12724673 0.13521242 0.14522059\n",
      " 0.15257353 0.14848856 0.14338235 0.14562908 0.15236928 0.15400327\n",
      " 0.14971405 0.1621732  0.16319444 0.16584967 0.16658863 0.16845405\n",
      " 0.16966209 0.1706104  0.17143299 0.17218892 0.17291272 0.17362468\n",
      " 0.17433469 0.17504546 0.17575553 0.17646147]\n",
      "12 day output [[0.17715931]]\n",
      "13 day input [0.15910948 0.15992647 0.15788399 0.16441993 0.17892157 0.17933007\n",
      " 0.19260621 0.20812908 0.18974673 0.18055556 0.18239379 0.17708333\n",
      " 0.17810458 0.18055556 0.17810458 0.17851307 0.19607843 0.18913399\n",
      " 0.18954248 0.19403595 0.19444444 0.20200163 0.19771242 0.19934641\n",
      " 0.19873366 0.1997549  0.2128268  0.21568627 0.20445261 0.21772876\n",
      " 0.21098856 0.21425654 0.19750817 0.18811275 0.17851307 0.17381536\n",
      " 0.16033497 0.16564542 0.17116013 0.17422386 0.18035131 0.17401961\n",
      " 0.16278595 0.16973039 0.17810458 0.17034314 0.16830065 0.17279412\n",
      " 0.17544935 0.18382353 0.19138072 0.18913399 0.19097222 0.17238562\n",
      " 0.16830065 0.1693219  0.17177288 0.16156046 0.14971405 0.1503268\n",
      " 0.15196078 0.14726307 0.14501634 0.14603758 0.12479575 0.13112745\n",
      " 0.11397059 0.1190768  0.12377451 0.13562092 0.12908497 0.13459967\n",
      " 0.12806373 0.13031046 0.12724673 0.13521242 0.14522059 0.15257353\n",
      " 0.14848856 0.14338235 0.14562908 0.15236928 0.15400327 0.14971405\n",
      " 0.1621732  0.16319444 0.16584967 0.16658863 0.16845405 0.16966209\n",
      " 0.1706104  0.17143299 0.17218892 0.17291272 0.17362468 0.17433469\n",
      " 0.17504546 0.17575553 0.17646147 0.17715931]\n",
      "13 day output [[0.17784542]]\n",
      "14 day input [0.15992647 0.15788399 0.16441993 0.17892157 0.17933007 0.19260621\n",
      " 0.20812908 0.18974673 0.18055556 0.18239379 0.17708333 0.17810458\n",
      " 0.18055556 0.17810458 0.17851307 0.19607843 0.18913399 0.18954248\n",
      " 0.19403595 0.19444444 0.20200163 0.19771242 0.19934641 0.19873366\n",
      " 0.1997549  0.2128268  0.21568627 0.20445261 0.21772876 0.21098856\n",
      " 0.21425654 0.19750817 0.18811275 0.17851307 0.17381536 0.16033497\n",
      " 0.16564542 0.17116013 0.17422386 0.18035131 0.17401961 0.16278595\n",
      " 0.16973039 0.17810458 0.17034314 0.16830065 0.17279412 0.17544935\n",
      " 0.18382353 0.19138072 0.18913399 0.19097222 0.17238562 0.16830065\n",
      " 0.1693219  0.17177288 0.16156046 0.14971405 0.1503268  0.15196078\n",
      " 0.14726307 0.14501634 0.14603758 0.12479575 0.13112745 0.11397059\n",
      " 0.1190768  0.12377451 0.13562092 0.12908497 0.13459967 0.12806373\n",
      " 0.13031046 0.12724673 0.13521242 0.14522059 0.15257353 0.14848856\n",
      " 0.14338235 0.14562908 0.15236928 0.15400327 0.14971405 0.1621732\n",
      " 0.16319444 0.16584967 0.16658863 0.16845405 0.16966209 0.1706104\n",
      " 0.17143299 0.17218892 0.17291272 0.17362468 0.17433469 0.17504546\n",
      " 0.17575553 0.17646147 0.17715931 0.17784542]\n",
      "14 day output [[0.17851704]]\n",
      "15 day input [0.15788399 0.16441993 0.17892157 0.17933007 0.19260621 0.20812908\n",
      " 0.18974673 0.18055556 0.18239379 0.17708333 0.17810458 0.18055556\n",
      " 0.17810458 0.17851307 0.19607843 0.18913399 0.18954248 0.19403595\n",
      " 0.19444444 0.20200163 0.19771242 0.19934641 0.19873366 0.1997549\n",
      " 0.2128268  0.21568627 0.20445261 0.21772876 0.21098856 0.21425654\n",
      " 0.19750817 0.18811275 0.17851307 0.17381536 0.16033497 0.16564542\n",
      " 0.17116013 0.17422386 0.18035131 0.17401961 0.16278595 0.16973039\n",
      " 0.17810458 0.17034314 0.16830065 0.17279412 0.17544935 0.18382353\n",
      " 0.19138072 0.18913399 0.19097222 0.17238562 0.16830065 0.1693219\n",
      " 0.17177288 0.16156046 0.14971405 0.1503268  0.15196078 0.14726307\n",
      " 0.14501634 0.14603758 0.12479575 0.13112745 0.11397059 0.1190768\n",
      " 0.12377451 0.13562092 0.12908497 0.13459967 0.12806373 0.13031046\n",
      " 0.12724673 0.13521242 0.14522059 0.15257353 0.14848856 0.14338235\n",
      " 0.14562908 0.15236928 0.15400327 0.14971405 0.1621732  0.16319444\n",
      " 0.16584967 0.16658863 0.16845405 0.16966209 0.1706104  0.17143299\n",
      " 0.17218892 0.17291272 0.17362468 0.17433469 0.17504546 0.17575553\n",
      " 0.17646147 0.17715931 0.17784542 0.17851704]\n",
      "15 day output [[0.17917219]]\n",
      "16 day input [0.16441993 0.17892157 0.17933007 0.19260621 0.20812908 0.18974673\n",
      " 0.18055556 0.18239379 0.17708333 0.17810458 0.18055556 0.17810458\n",
      " 0.17851307 0.19607843 0.18913399 0.18954248 0.19403595 0.19444444\n",
      " 0.20200163 0.19771242 0.19934641 0.19873366 0.1997549  0.2128268\n",
      " 0.21568627 0.20445261 0.21772876 0.21098856 0.21425654 0.19750817\n",
      " 0.18811275 0.17851307 0.17381536 0.16033497 0.16564542 0.17116013\n",
      " 0.17422386 0.18035131 0.17401961 0.16278595 0.16973039 0.17810458\n",
      " 0.17034314 0.16830065 0.17279412 0.17544935 0.18382353 0.19138072\n",
      " 0.18913399 0.19097222 0.17238562 0.16830065 0.1693219  0.17177288\n",
      " 0.16156046 0.14971405 0.1503268  0.15196078 0.14726307 0.14501634\n",
      " 0.14603758 0.12479575 0.13112745 0.11397059 0.1190768  0.12377451\n",
      " 0.13562092 0.12908497 0.13459967 0.12806373 0.13031046 0.12724673\n",
      " 0.13521242 0.14522059 0.15257353 0.14848856 0.14338235 0.14562908\n",
      " 0.15236928 0.15400327 0.14971405 0.1621732  0.16319444 0.16584967\n",
      " 0.16658863 0.16845405 0.16966209 0.1706104  0.17143299 0.17218892\n",
      " 0.17291272 0.17362468 0.17433469 0.17504546 0.17575553 0.17646147\n",
      " 0.17715931 0.17784542 0.17851704 0.17917219]\n",
      "16 day output [[0.17980984]]\n",
      "17 day input [0.17892157 0.17933007 0.19260621 0.20812908 0.18974673 0.18055556\n",
      " 0.18239379 0.17708333 0.17810458 0.18055556 0.17810458 0.17851307\n",
      " 0.19607843 0.18913399 0.18954248 0.19403595 0.19444444 0.20200163\n",
      " 0.19771242 0.19934641 0.19873366 0.1997549  0.2128268  0.21568627\n",
      " 0.20445261 0.21772876 0.21098856 0.21425654 0.19750817 0.18811275\n",
      " 0.17851307 0.17381536 0.16033497 0.16564542 0.17116013 0.17422386\n",
      " 0.18035131 0.17401961 0.16278595 0.16973039 0.17810458 0.17034314\n",
      " 0.16830065 0.17279412 0.17544935 0.18382353 0.19138072 0.18913399\n",
      " 0.19097222 0.17238562 0.16830065 0.1693219  0.17177288 0.16156046\n",
      " 0.14971405 0.1503268  0.15196078 0.14726307 0.14501634 0.14603758\n",
      " 0.12479575 0.13112745 0.11397059 0.1190768  0.12377451 0.13562092\n",
      " 0.12908497 0.13459967 0.12806373 0.13031046 0.12724673 0.13521242\n",
      " 0.14522059 0.15257353 0.14848856 0.14338235 0.14562908 0.15236928\n",
      " 0.15400327 0.14971405 0.1621732  0.16319444 0.16584967 0.16658863\n",
      " 0.16845405 0.16966209 0.1706104  0.17143299 0.17218892 0.17291272\n",
      " 0.17362468 0.17433469 0.17504546 0.17575553 0.17646147 0.17715931\n",
      " 0.17784542 0.17851704 0.17917219 0.17980984]\n"
     ]
    },
    {
     "name": "stdout",
     "output_type": "stream",
     "text": [
      "17 day output [[0.1804295]]\n",
      "18 day input [0.17933007 0.19260621 0.20812908 0.18974673 0.18055556 0.18239379\n",
      " 0.17708333 0.17810458 0.18055556 0.17810458 0.17851307 0.19607843\n",
      " 0.18913399 0.18954248 0.19403595 0.19444444 0.20200163 0.19771242\n",
      " 0.19934641 0.19873366 0.1997549  0.2128268  0.21568627 0.20445261\n",
      " 0.21772876 0.21098856 0.21425654 0.19750817 0.18811275 0.17851307\n",
      " 0.17381536 0.16033497 0.16564542 0.17116013 0.17422386 0.18035131\n",
      " 0.17401961 0.16278595 0.16973039 0.17810458 0.17034314 0.16830065\n",
      " 0.17279412 0.17544935 0.18382353 0.19138072 0.18913399 0.19097222\n",
      " 0.17238562 0.16830065 0.1693219  0.17177288 0.16156046 0.14971405\n",
      " 0.1503268  0.15196078 0.14726307 0.14501634 0.14603758 0.12479575\n",
      " 0.13112745 0.11397059 0.1190768  0.12377451 0.13562092 0.12908497\n",
      " 0.13459967 0.12806373 0.13031046 0.12724673 0.13521242 0.14522059\n",
      " 0.15257353 0.14848856 0.14338235 0.14562908 0.15236928 0.15400327\n",
      " 0.14971405 0.1621732  0.16319444 0.16584967 0.16658863 0.16845405\n",
      " 0.16966209 0.1706104  0.17143299 0.17218892 0.17291272 0.17362468\n",
      " 0.17433469 0.17504546 0.17575553 0.17646147 0.17715931 0.17784542\n",
      " 0.17851704 0.17917219 0.17980984 0.1804295 ]\n",
      "18 day output [[0.18103114]]\n",
      "19 day input [0.19260621 0.20812908 0.18974673 0.18055556 0.18239379 0.17708333\n",
      " 0.17810458 0.18055556 0.17810458 0.17851307 0.19607843 0.18913399\n",
      " 0.18954248 0.19403595 0.19444444 0.20200163 0.19771242 0.19934641\n",
      " 0.19873366 0.1997549  0.2128268  0.21568627 0.20445261 0.21772876\n",
      " 0.21098856 0.21425654 0.19750817 0.18811275 0.17851307 0.17381536\n",
      " 0.16033497 0.16564542 0.17116013 0.17422386 0.18035131 0.17401961\n",
      " 0.16278595 0.16973039 0.17810458 0.17034314 0.16830065 0.17279412\n",
      " 0.17544935 0.18382353 0.19138072 0.18913399 0.19097222 0.17238562\n",
      " 0.16830065 0.1693219  0.17177288 0.16156046 0.14971405 0.1503268\n",
      " 0.15196078 0.14726307 0.14501634 0.14603758 0.12479575 0.13112745\n",
      " 0.11397059 0.1190768  0.12377451 0.13562092 0.12908497 0.13459967\n",
      " 0.12806373 0.13031046 0.12724673 0.13521242 0.14522059 0.15257353\n",
      " 0.14848856 0.14338235 0.14562908 0.15236928 0.15400327 0.14971405\n",
      " 0.1621732  0.16319444 0.16584967 0.16658863 0.16845405 0.16966209\n",
      " 0.1706104  0.17143299 0.17218892 0.17291272 0.17362468 0.17433469\n",
      " 0.17504546 0.17575553 0.17646147 0.17715931 0.17784542 0.17851704\n",
      " 0.17917219 0.17980984 0.1804295  0.18103114]\n",
      "19 day output [[0.18161505]]\n",
      "20 day input [0.20812908 0.18974673 0.18055556 0.18239379 0.17708333 0.17810458\n",
      " 0.18055556 0.17810458 0.17851307 0.19607843 0.18913399 0.18954248\n",
      " 0.19403595 0.19444444 0.20200163 0.19771242 0.19934641 0.19873366\n",
      " 0.1997549  0.2128268  0.21568627 0.20445261 0.21772876 0.21098856\n",
      " 0.21425654 0.19750817 0.18811275 0.17851307 0.17381536 0.16033497\n",
      " 0.16564542 0.17116013 0.17422386 0.18035131 0.17401961 0.16278595\n",
      " 0.16973039 0.17810458 0.17034314 0.16830065 0.17279412 0.17544935\n",
      " 0.18382353 0.19138072 0.18913399 0.19097222 0.17238562 0.16830065\n",
      " 0.1693219  0.17177288 0.16156046 0.14971405 0.1503268  0.15196078\n",
      " 0.14726307 0.14501634 0.14603758 0.12479575 0.13112745 0.11397059\n",
      " 0.1190768  0.12377451 0.13562092 0.12908497 0.13459967 0.12806373\n",
      " 0.13031046 0.12724673 0.13521242 0.14522059 0.15257353 0.14848856\n",
      " 0.14338235 0.14562908 0.15236928 0.15400327 0.14971405 0.1621732\n",
      " 0.16319444 0.16584967 0.16658863 0.16845405 0.16966209 0.1706104\n",
      " 0.17143299 0.17218892 0.17291272 0.17362468 0.17433469 0.17504546\n",
      " 0.17575553 0.17646147 0.17715931 0.17784542 0.17851704 0.17917219\n",
      " 0.17980984 0.1804295  0.18103114 0.18161505]\n",
      "20 day output [[0.18218157]]\n",
      "21 day input [0.18974673 0.18055556 0.18239379 0.17708333 0.17810458 0.18055556\n",
      " 0.17810458 0.17851307 0.19607843 0.18913399 0.18954248 0.19403595\n",
      " 0.19444444 0.20200163 0.19771242 0.19934641 0.19873366 0.1997549\n",
      " 0.2128268  0.21568627 0.20445261 0.21772876 0.21098856 0.21425654\n",
      " 0.19750817 0.18811275 0.17851307 0.17381536 0.16033497 0.16564542\n",
      " 0.17116013 0.17422386 0.18035131 0.17401961 0.16278595 0.16973039\n",
      " 0.17810458 0.17034314 0.16830065 0.17279412 0.17544935 0.18382353\n",
      " 0.19138072 0.18913399 0.19097222 0.17238562 0.16830065 0.1693219\n",
      " 0.17177288 0.16156046 0.14971405 0.1503268  0.15196078 0.14726307\n",
      " 0.14501634 0.14603758 0.12479575 0.13112745 0.11397059 0.1190768\n",
      " 0.12377451 0.13562092 0.12908497 0.13459967 0.12806373 0.13031046\n",
      " 0.12724673 0.13521242 0.14522059 0.15257353 0.14848856 0.14338235\n",
      " 0.14562908 0.15236928 0.15400327 0.14971405 0.1621732  0.16319444\n",
      " 0.16584967 0.16658863 0.16845405 0.16966209 0.1706104  0.17143299\n",
      " 0.17218892 0.17291272 0.17362468 0.17433469 0.17504546 0.17575553\n",
      " 0.17646147 0.17715931 0.17784542 0.17851704 0.17917219 0.17980984\n",
      " 0.1804295  0.18103114 0.18161505 0.18218157]\n",
      "21 day output [[0.1827312]]\n",
      "22 day input [0.18055556 0.18239379 0.17708333 0.17810458 0.18055556 0.17810458\n",
      " 0.17851307 0.19607843 0.18913399 0.18954248 0.19403595 0.19444444\n",
      " 0.20200163 0.19771242 0.19934641 0.19873366 0.1997549  0.2128268\n",
      " 0.21568627 0.20445261 0.21772876 0.21098856 0.21425654 0.19750817\n",
      " 0.18811275 0.17851307 0.17381536 0.16033497 0.16564542 0.17116013\n",
      " 0.17422386 0.18035131 0.17401961 0.16278595 0.16973039 0.17810458\n",
      " 0.17034314 0.16830065 0.17279412 0.17544935 0.18382353 0.19138072\n",
      " 0.18913399 0.19097222 0.17238562 0.16830065 0.1693219  0.17177288\n",
      " 0.16156046 0.14971405 0.1503268  0.15196078 0.14726307 0.14501634\n",
      " 0.14603758 0.12479575 0.13112745 0.11397059 0.1190768  0.12377451\n",
      " 0.13562092 0.12908497 0.13459967 0.12806373 0.13031046 0.12724673\n",
      " 0.13521242 0.14522059 0.15257353 0.14848856 0.14338235 0.14562908\n",
      " 0.15236928 0.15400327 0.14971405 0.1621732  0.16319444 0.16584967\n",
      " 0.16658863 0.16845405 0.16966209 0.1706104  0.17143299 0.17218892\n",
      " 0.17291272 0.17362468 0.17433469 0.17504546 0.17575553 0.17646147\n",
      " 0.17715931 0.17784542 0.17851704 0.17917219 0.17980984 0.1804295\n",
      " 0.18103114 0.18161505 0.18218157 0.1827312 ]\n",
      "22 day output [[0.1832642]]\n",
      "23 day input [0.18239379 0.17708333 0.17810458 0.18055556 0.17810458 0.17851307\n",
      " 0.19607843 0.18913399 0.18954248 0.19403595 0.19444444 0.20200163\n",
      " 0.19771242 0.19934641 0.19873366 0.1997549  0.2128268  0.21568627\n",
      " 0.20445261 0.21772876 0.21098856 0.21425654 0.19750817 0.18811275\n",
      " 0.17851307 0.17381536 0.16033497 0.16564542 0.17116013 0.17422386\n",
      " 0.18035131 0.17401961 0.16278595 0.16973039 0.17810458 0.17034314\n",
      " 0.16830065 0.17279412 0.17544935 0.18382353 0.19138072 0.18913399\n",
      " 0.19097222 0.17238562 0.16830065 0.1693219  0.17177288 0.16156046\n",
      " 0.14971405 0.1503268  0.15196078 0.14726307 0.14501634 0.14603758\n",
      " 0.12479575 0.13112745 0.11397059 0.1190768  0.12377451 0.13562092\n",
      " 0.12908497 0.13459967 0.12806373 0.13031046 0.12724673 0.13521242\n",
      " 0.14522059 0.15257353 0.14848856 0.14338235 0.14562908 0.15236928\n",
      " 0.15400327 0.14971405 0.1621732  0.16319444 0.16584967 0.16658863\n",
      " 0.16845405 0.16966209 0.1706104  0.17143299 0.17218892 0.17291272\n",
      " 0.17362468 0.17433469 0.17504546 0.17575553 0.17646147 0.17715931\n",
      " 0.17784542 0.17851704 0.17917219 0.17980984 0.1804295  0.18103114\n",
      " 0.18161505 0.18218157 0.1827312  0.1832642 ]\n",
      "23 day output [[0.18378107]]\n",
      "24 day input [0.17708333 0.17810458 0.18055556 0.17810458 0.17851307 0.19607843\n",
      " 0.18913399 0.18954248 0.19403595 0.19444444 0.20200163 0.19771242\n",
      " 0.19934641 0.19873366 0.1997549  0.2128268  0.21568627 0.20445261\n",
      " 0.21772876 0.21098856 0.21425654 0.19750817 0.18811275 0.17851307\n",
      " 0.17381536 0.16033497 0.16564542 0.17116013 0.17422386 0.18035131\n",
      " 0.17401961 0.16278595 0.16973039 0.17810458 0.17034314 0.16830065\n",
      " 0.17279412 0.17544935 0.18382353 0.19138072 0.18913399 0.19097222\n",
      " 0.17238562 0.16830065 0.1693219  0.17177288 0.16156046 0.14971405\n",
      " 0.1503268  0.15196078 0.14726307 0.14501634 0.14603758 0.12479575\n",
      " 0.13112745 0.11397059 0.1190768  0.12377451 0.13562092 0.12908497\n",
      " 0.13459967 0.12806373 0.13031046 0.12724673 0.13521242 0.14522059\n",
      " 0.15257353 0.14848856 0.14338235 0.14562908 0.15236928 0.15400327\n",
      " 0.14971405 0.1621732  0.16319444 0.16584967 0.16658863 0.16845405\n",
      " 0.16966209 0.1706104  0.17143299 0.17218892 0.17291272 0.17362468\n",
      " 0.17433469 0.17504546 0.17575553 0.17646147 0.17715931 0.17784542\n",
      " 0.17851704 0.17917219 0.17980984 0.1804295  0.18103114 0.18161505\n",
      " 0.18218157 0.1827312  0.1832642  0.18378107]\n",
      "24 day output [[0.18428198]]\n",
      "25 day input [0.17810458 0.18055556 0.17810458 0.17851307 0.19607843 0.18913399\n",
      " 0.18954248 0.19403595 0.19444444 0.20200163 0.19771242 0.19934641\n",
      " 0.19873366 0.1997549  0.2128268  0.21568627 0.20445261 0.21772876\n",
      " 0.21098856 0.21425654 0.19750817 0.18811275 0.17851307 0.17381536\n",
      " 0.16033497 0.16564542 0.17116013 0.17422386 0.18035131 0.17401961\n",
      " 0.16278595 0.16973039 0.17810458 0.17034314 0.16830065 0.17279412\n",
      " 0.17544935 0.18382353 0.19138072 0.18913399 0.19097222 0.17238562\n",
      " 0.16830065 0.1693219  0.17177288 0.16156046 0.14971405 0.1503268\n",
      " 0.15196078 0.14726307 0.14501634 0.14603758 0.12479575 0.13112745\n",
      " 0.11397059 0.1190768  0.12377451 0.13562092 0.12908497 0.13459967\n",
      " 0.12806373 0.13031046 0.12724673 0.13521242 0.14522059 0.15257353\n",
      " 0.14848856 0.14338235 0.14562908 0.15236928 0.15400327 0.14971405\n",
      " 0.1621732  0.16319444 0.16584967 0.16658863 0.16845405 0.16966209\n",
      " 0.1706104  0.17143299 0.17218892 0.17291272 0.17362468 0.17433469\n",
      " 0.17504546 0.17575553 0.17646147 0.17715931 0.17784542 0.17851704\n",
      " 0.17917219 0.17980984 0.1804295  0.18103114 0.18161505 0.18218157\n",
      " 0.1827312  0.1832642  0.18378107 0.18428198]\n"
     ]
    },
    {
     "name": "stdout",
     "output_type": "stream",
     "text": [
      "25 day output [[0.1847673]]\n",
      "26 day input [0.18055556 0.17810458 0.17851307 0.19607843 0.18913399 0.18954248\n",
      " 0.19403595 0.19444444 0.20200163 0.19771242 0.19934641 0.19873366\n",
      " 0.1997549  0.2128268  0.21568627 0.20445261 0.21772876 0.21098856\n",
      " 0.21425654 0.19750817 0.18811275 0.17851307 0.17381536 0.16033497\n",
      " 0.16564542 0.17116013 0.17422386 0.18035131 0.17401961 0.16278595\n",
      " 0.16973039 0.17810458 0.17034314 0.16830065 0.17279412 0.17544935\n",
      " 0.18382353 0.19138072 0.18913399 0.19097222 0.17238562 0.16830065\n",
      " 0.1693219  0.17177288 0.16156046 0.14971405 0.1503268  0.15196078\n",
      " 0.14726307 0.14501634 0.14603758 0.12479575 0.13112745 0.11397059\n",
      " 0.1190768  0.12377451 0.13562092 0.12908497 0.13459967 0.12806373\n",
      " 0.13031046 0.12724673 0.13521242 0.14522059 0.15257353 0.14848856\n",
      " 0.14338235 0.14562908 0.15236928 0.15400327 0.14971405 0.1621732\n",
      " 0.16319444 0.16584967 0.16658863 0.16845405 0.16966209 0.1706104\n",
      " 0.17143299 0.17218892 0.17291272 0.17362468 0.17433469 0.17504546\n",
      " 0.17575553 0.17646147 0.17715931 0.17784542 0.17851704 0.17917219\n",
      " 0.17980984 0.1804295  0.18103114 0.18161505 0.18218157 0.1827312\n",
      " 0.1832642  0.18378107 0.18428198 0.18476731]\n",
      "26 day output [[0.18523726]]\n",
      "27 day input [0.17810458 0.17851307 0.19607843 0.18913399 0.18954248 0.19403595\n",
      " 0.19444444 0.20200163 0.19771242 0.19934641 0.19873366 0.1997549\n",
      " 0.2128268  0.21568627 0.20445261 0.21772876 0.21098856 0.21425654\n",
      " 0.19750817 0.18811275 0.17851307 0.17381536 0.16033497 0.16564542\n",
      " 0.17116013 0.17422386 0.18035131 0.17401961 0.16278595 0.16973039\n",
      " 0.17810458 0.17034314 0.16830065 0.17279412 0.17544935 0.18382353\n",
      " 0.19138072 0.18913399 0.19097222 0.17238562 0.16830065 0.1693219\n",
      " 0.17177288 0.16156046 0.14971405 0.1503268  0.15196078 0.14726307\n",
      " 0.14501634 0.14603758 0.12479575 0.13112745 0.11397059 0.1190768\n",
      " 0.12377451 0.13562092 0.12908497 0.13459967 0.12806373 0.13031046\n",
      " 0.12724673 0.13521242 0.14522059 0.15257353 0.14848856 0.14338235\n",
      " 0.14562908 0.15236928 0.15400327 0.14971405 0.1621732  0.16319444\n",
      " 0.16584967 0.16658863 0.16845405 0.16966209 0.1706104  0.17143299\n",
      " 0.17218892 0.17291272 0.17362468 0.17433469 0.17504546 0.17575553\n",
      " 0.17646147 0.17715931 0.17784542 0.17851704 0.17917219 0.17980984\n",
      " 0.1804295  0.18103114 0.18161505 0.18218157 0.1827312  0.1832642\n",
      " 0.18378107 0.18428198 0.18476731 0.18523726]\n",
      "27 day output [[0.18569209]]\n",
      "28 day input [0.17851307 0.19607843 0.18913399 0.18954248 0.19403595 0.19444444\n",
      " 0.20200163 0.19771242 0.19934641 0.19873366 0.1997549  0.2128268\n",
      " 0.21568627 0.20445261 0.21772876 0.21098856 0.21425654 0.19750817\n",
      " 0.18811275 0.17851307 0.17381536 0.16033497 0.16564542 0.17116013\n",
      " 0.17422386 0.18035131 0.17401961 0.16278595 0.16973039 0.17810458\n",
      " 0.17034314 0.16830065 0.17279412 0.17544935 0.18382353 0.19138072\n",
      " 0.18913399 0.19097222 0.17238562 0.16830065 0.1693219  0.17177288\n",
      " 0.16156046 0.14971405 0.1503268  0.15196078 0.14726307 0.14501634\n",
      " 0.14603758 0.12479575 0.13112745 0.11397059 0.1190768  0.12377451\n",
      " 0.13562092 0.12908497 0.13459967 0.12806373 0.13031046 0.12724673\n",
      " 0.13521242 0.14522059 0.15257353 0.14848856 0.14338235 0.14562908\n",
      " 0.15236928 0.15400327 0.14971405 0.1621732  0.16319444 0.16584967\n",
      " 0.16658863 0.16845405 0.16966209 0.1706104  0.17143299 0.17218892\n",
      " 0.17291272 0.17362468 0.17433469 0.17504546 0.17575553 0.17646147\n",
      " 0.17715931 0.17784542 0.17851704 0.17917219 0.17980984 0.1804295\n",
      " 0.18103114 0.18161505 0.18218157 0.1827312  0.1832642  0.18378107\n",
      " 0.18428198 0.18476731 0.18523726 0.18569209]\n",
      "28 day output [[0.18613201]]\n",
      "29 day input [0.19607843 0.18913399 0.18954248 0.19403595 0.19444444 0.20200163\n",
      " 0.19771242 0.19934641 0.19873366 0.1997549  0.2128268  0.21568627\n",
      " 0.20445261 0.21772876 0.21098856 0.21425654 0.19750817 0.18811275\n",
      " 0.17851307 0.17381536 0.16033497 0.16564542 0.17116013 0.17422386\n",
      " 0.18035131 0.17401961 0.16278595 0.16973039 0.17810458 0.17034314\n",
      " 0.16830065 0.17279412 0.17544935 0.18382353 0.19138072 0.18913399\n",
      " 0.19097222 0.17238562 0.16830065 0.1693219  0.17177288 0.16156046\n",
      " 0.14971405 0.1503268  0.15196078 0.14726307 0.14501634 0.14603758\n",
      " 0.12479575 0.13112745 0.11397059 0.1190768  0.12377451 0.13562092\n",
      " 0.12908497 0.13459967 0.12806373 0.13031046 0.12724673 0.13521242\n",
      " 0.14522059 0.15257353 0.14848856 0.14338235 0.14562908 0.15236928\n",
      " 0.15400327 0.14971405 0.1621732  0.16319444 0.16584967 0.16658863\n",
      " 0.16845405 0.16966209 0.1706104  0.17143299 0.17218892 0.17291272\n",
      " 0.17362468 0.17433469 0.17504546 0.17575553 0.17646147 0.17715931\n",
      " 0.17784542 0.17851704 0.17917219 0.17980984 0.1804295  0.18103114\n",
      " 0.18161505 0.18218157 0.1827312  0.1832642  0.18378107 0.18428198\n",
      " 0.18476731 0.18523726 0.18569209 0.18613201]\n",
      "29 day output [[0.18655743]]\n",
      "[[0.16658863425254822], [0.16845405101776123], [0.16966208815574646], [0.17061039805412292], [0.1714329868555069], [0.1721889227628708], [0.17291271686553955], [0.1736246794462204], [0.17433468997478485], [0.1750454604625702], [0.17575553059577942], [0.17646147310733795], [0.17715930938720703], [0.17784541845321655], [0.17851704359054565], [0.17917218804359436], [0.1798098385334015], [0.18042950332164764], [0.18103113770484924], [0.18161505460739136], [0.18218156695365906], [0.18273119628429413], [0.18326419591903687], [0.18378107249736786], [0.18428197503089905], [0.18476730585098267], [0.18523725867271423], [0.18569208681583405], [0.18613201379776], [0.18655742704868317]]\n"
     ]
    }
   ],
   "source": [
    "lst_output=[]\n",
    "n_steps=100\n",
    "i=0\n",
    "while(i<30):\n",
    "    \n",
    "    if(len(temp_input)>100):\n",
    "        x_input=np.array(temp_input[1:])\n",
    "        print(\"{} day input {}\".format(i,x_input))\n",
    "        x_input=x_input.reshape(1,-1)\n",
    "        x_input = x_input.reshape((1, n_steps, 1))\n",
    "\n",
    "        yhat = model.predict(x_input, verbose=0)\n",
    "        print(\"{} day output {}\".format(i,yhat))\n",
    "        temp_input.extend(yhat[0].tolist())\n",
    "        temp_input=temp_input[1:]\n",
    "\n",
    "        lst_output.extend(yhat.tolist())\n",
    "        i=i+1\n",
    "    else:\n",
    "        x_input = x_input.reshape((1, n_steps,1))\n",
    "        yhat = model.predict(x_input, verbose=0)\n",
    "        print(yhat[0])\n",
    "        temp_input.extend(yhat[0].tolist())\n",
    "        print(len(temp_input))\n",
    "        lst_output.extend(yhat.tolist())\n",
    "        i=i+1\n",
    "    \n",
    "\n",
    "print(lst_output)"
   ]
  },
  {
   "cell_type": "code",
   "execution_count": 25,
   "id": "9069600a",
   "metadata": {},
   "outputs": [],
   "source": [
    "day_new=np.arange(1,101)\n",
    "day_pred=np.arange(101,131)"
   ]
  },
  {
   "cell_type": "code",
   "execution_count": 26,
   "id": "9aa52cee",
   "metadata": {},
   "outputs": [
    {
     "data": {
      "text/plain": [
       "2035"
      ]
     },
     "execution_count": 26,
     "metadata": {},
     "output_type": "execute_result"
    }
   ],
   "source": [
    "len(df1)"
   ]
  },
  {
   "cell_type": "markdown",
   "id": "fc771105",
   "metadata": {},
   "source": [
    "> ### This is the graph of actual values in last 100 days"
   ]
  },
  {
   "cell_type": "code",
   "execution_count": 27,
   "id": "b693d706",
   "metadata": {},
   "outputs": [
    {
     "data": {
      "text/plain": [
       "[<matplotlib.lines.Line2D at 0x1909ce50220>]"
      ]
     },
     "execution_count": 27,
     "metadata": {},
     "output_type": "execute_result"
    },
    {
     "data": {
      "image/png": "[encoded data removed]",
      "text/plain": [
       "<Figure size 432x288 with 1 Axes>"
      ]
     },
     "metadata": {
      "needs_background": "light"
     },
     "output_type": "display_data"
    }
   ],
   "source": [
    "plt.plot(day_new,scaler.inverse_transform(df1[1935:]))\n",
    "plt.plot(day_pred,scaler.inverse_transform(lst_output))"
   ]
  },
  {
   "cell_type": "markdown",
   "id": "333b16b3",
   "metadata": {},
   "source": [
    "> ### And this is the graph of predicted values for next 30 days"
   ]
  },
  {
   "cell_type": "code",
   "execution_count": 28,
   "id": "c2fb02b3",
   "metadata": {},
   "outputs": [
    {
     "data": {
      "text/plain": [
       "[<matplotlib.lines.Line2D at 0x1909f408f70>]"
      ]
     },
     "execution_count": 28,
     "metadata": {},
     "output_type": "execute_result"
    },
    {
     "data": {
      "image/png": "[encoded data removed]",
      "text/plain": [
       "<Figure size 432x288 with 1 Axes>"
      ]
     },
     "metadata": {
      "needs_background": "light"
     },
     "output_type": "display_data"
    }
   ],
   "source": [
    "df3=df1.tolist()\n",
    "df3.extend(lst_output)\n",
    "plt.plot(df3[1990:])"
   ]
  },
  {
   "cell_type": "code",
   "execution_count": 29,
   "id": "d9d82829",
   "metadata": {},
   "outputs": [
    {
     "data": {
      "text/plain": [
       "[<matplotlib.lines.Line2D at 0x1909f980a60>]"
      ]
     },
     "execution_count": 29,
     "metadata": {},
     "output_type": "execute_result"
    },
    {
     "data": {
      "image/png": "[encoded data removed]",
      "text/plain": [
       "<Figure size 432x288 with 1 Axes>"
      ]
     },
     "metadata": {
      "needs_background": "light"
     },
     "output_type": "display_data"
    }
   ],
   "source": [
    "df3=scaler.inverse_transform(df3).tolist()\n",
    "plt.plot(df3)"
   ]
  },
  {
   "cell_type": "markdown",
   "id": "e96e009b",
   "metadata": {},
   "source": [
    "# Thank You"
   ]
  }
 ],
 "metadata": {
  "kernelspec": {
   "display_name": "Python 3",
   "language": "python",
   "name": "python3"
  },
  "language_info": {
   "codemirror_mode": {
    "name": "ipython",
    "version": 3
   },
   "file_extension": ".py",
   "mimetype": "text/x-python",
   "name": "python",
   "nbconvert_exporter": "python",
   "pygments_lexer": "ipython3",
   "version": "3.9.2"
  }
 },
 "nbformat": 4,
 "nbformat_minor": 5
}
